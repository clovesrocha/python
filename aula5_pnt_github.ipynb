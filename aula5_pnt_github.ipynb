{
  "nbformat": 4,
  "nbformat_minor": 0,
  "metadata": {
    "colab": {
      "provenance": []
    },
    "kernelspec": {
      "name": "python3",
      "display_name": "Python 3"
    },
    "language_info": {
      "name": "python"
    }
  },
  "cells": [
    {
      "cell_type": "code",
      "execution_count": null,
      "metadata": {
        "id": "U7sWBr9B1M-n"
      },
      "outputs": [],
      "source": [
        "# ETE CÍCERO DIAS\n",
        "# DOCENTE: CLOVES\n",
        "# ESTUDANTE: ?\n",
        "# print('Cloves')\n",
        "# Tipos Primitivos de Dados\n",
        "d = 'Dados'\n",
        "print(type(d))"
      ]
    }
  ]
}